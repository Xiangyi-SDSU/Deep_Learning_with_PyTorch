{
 "cells": [
  {
   "cell_type": "code",
   "execution_count": 1,
   "id": "701f1b66-f3b0-42ab-95ed-4dc3effbb2c5",
   "metadata": {},
   "outputs": [],
   "source": [
    "#Part 1: Running pretrained image-recognition model: ResNet"
   ]
  },
  {
   "cell_type": "code",
   "execution_count": 2,
   "id": "a47439c6-b221-4d28-adfc-0f0f0b491d61",
   "metadata": {},
   "outputs": [],
   "source": [
    "from torchvision import models"
   ]
  },
  {
   "cell_type": "code",
   "execution_count": 3,
   "id": "69bb0a69-e977-48ec-be95-326dd2377fce",
   "metadata": {},
   "outputs": [],
   "source": [
    "#dir(models)"
   ]
  },
  {
   "cell_type": "code",
   "execution_count": 4,
   "id": "71912f05-8e37-4bb6-a469-f09b47fe50a8",
   "metadata": {},
   "outputs": [
    {
     "name": "stderr",
     "output_type": "stream",
     "text": [
      "/opt/conda/lib/python3.11/site-packages/torchvision/models/_utils.py:208: UserWarning: The parameter 'pretrained' is deprecated since 0.13 and may be removed in the future, please use 'weights' instead.\n",
      "  warnings.warn(\n",
      "/opt/conda/lib/python3.11/site-packages/torchvision/models/_utils.py:223: UserWarning: Arguments other than a weight enum or `None` for 'weights' are deprecated since 0.13 and may be removed in the future. The current behavior is equivalent to passing `weights=ResNet101_Weights.IMAGENET1K_V1`. You can also use `weights=ResNet101_Weights.DEFAULT` to get the most up-to-date weights.\n",
      "  warnings.warn(msg)\n"
     ]
    }
   ],
   "source": [
    "resnet = models.resnet101(pretrained = True)"
   ]
  },
  {
   "cell_type": "code",
   "execution_count": 5,
   "id": "0dea5c12-6f42-4590-922e-c128c1913071",
   "metadata": {},
   "outputs": [],
   "source": [
    "from torchvision import transforms"
   ]
  },
  {
   "cell_type": "code",
   "execution_count": 6,
   "id": "ed97d979-da27-49b5-8de6-191099a84ef0",
   "metadata": {},
   "outputs": [],
   "source": [
    "preprocess = transforms.Compose([\n",
    "    transforms.Resize(256),\n",
    "    transforms.CenterCrop(224),\n",
    "    transforms.ToTensor(),\n",
    "    transforms.Normalize(\n",
    "        mean = [0.485, 0.456, 0.406],\n",
    "        std = [0.229, 0.224, 0.225]\n",
    "    )\n",
    "])"
   ]
  },
  {
   "cell_type": "code",
   "execution_count": 7,
   "id": "d30f8b31-8e14-493c-a68f-d62e611e1b48",
   "metadata": {},
   "outputs": [],
   "source": [
    "from PIL import Image"
   ]
  },
  {
   "cell_type": "code",
   "execution_count": 8,
   "id": "3e392b00-96d3-43ac-a6ac-76278dea6a7b",
   "metadata": {},
   "outputs": [],
   "source": [
    "img = Image.open('./bobby.jpg')"
   ]
  },
  {
   "cell_type": "code",
   "execution_count": 9,
   "id": "08cd96b4-4829-4683-a817-b6dd5ca5da2d",
   "metadata": {},
   "outputs": [],
   "source": [
    "#img"
   ]
  },
  {
   "cell_type": "code",
   "execution_count": 10,
   "id": "9f00e4b1-8011-434e-987e-4e0594f6953c",
   "metadata": {},
   "outputs": [
    {
     "data": {
      "text/plain": [
       "(1280, 720)"
      ]
     },
     "execution_count": 10,
     "metadata": {},
     "output_type": "execute_result"
    }
   ],
   "source": [
    "img.size"
   ]
  },
  {
   "cell_type": "code",
   "execution_count": 11,
   "id": "118cc121-87a8-4cc5-a54c-05b1f65c0740",
   "metadata": {},
   "outputs": [],
   "source": [
    "img_t = preprocess(img)"
   ]
  },
  {
   "cell_type": "code",
   "execution_count": 13,
   "id": "6e724374-fec5-446f-acda-01f46b8ece07",
   "metadata": {},
   "outputs": [],
   "source": [
    "#img_t\n",
    "#img_t.shape"
   ]
  },
  {
   "cell_type": "code",
   "execution_count": 14,
   "id": "7b012fa0-af54-4a85-ba19-ed0daf1f57fd",
   "metadata": {},
   "outputs": [],
   "source": [
    "import torch"
   ]
  },
  {
   "cell_type": "code",
   "execution_count": 15,
   "id": "6a84c5f0-bbbe-40bd-a890-a05103c84356",
   "metadata": {},
   "outputs": [
    {
     "data": {
      "text/plain": [
       "torch.Size([1, 3, 224, 224])"
      ]
     },
     "execution_count": 15,
     "metadata": {},
     "output_type": "execute_result"
    }
   ],
   "source": [
    "batch_t = torch.unsqueeze(img_t, 0)\n",
    "batch_t.shape\n",
    "#return batch size, dimension, photo size (224, 224)"
   ]
  },
  {
   "cell_type": "code",
   "execution_count": 16,
   "id": "c3702d2a-2416-49ea-ac28-f98561842c92",
   "metadata": {
    "scrolled": true
   },
   "outputs": [
    {
     "data": {
      "text/plain": [
       "ResNet(\n",
       "  (conv1): Conv2d(3, 64, kernel_size=(7, 7), stride=(2, 2), padding=(3, 3), bias=False)\n",
       "  (bn1): BatchNorm2d(64, eps=1e-05, momentum=0.1, affine=True, track_running_stats=True)\n",
       "  (relu): ReLU(inplace=True)\n",
       "  (maxpool): MaxPool2d(kernel_size=3, stride=2, padding=1, dilation=1, ceil_mode=False)\n",
       "  (layer1): Sequential(\n",
       "    (0): Bottleneck(\n",
       "      (conv1): Conv2d(64, 64, kernel_size=(1, 1), stride=(1, 1), bias=False)\n",
       "      (bn1): BatchNorm2d(64, eps=1e-05, momentum=0.1, affine=True, track_running_stats=True)\n",
       "      (conv2): Conv2d(64, 64, kernel_size=(3, 3), stride=(1, 1), padding=(1, 1), bias=False)\n",
       "      (bn2): BatchNorm2d(64, eps=1e-05, momentum=0.1, affine=True, track_running_stats=True)\n",
       "      (conv3): Conv2d(64, 256, kernel_size=(1, 1), stride=(1, 1), bias=False)\n",
       "      (bn3): BatchNorm2d(256, eps=1e-05, momentum=0.1, affine=True, track_running_stats=True)\n",
       "      (relu): ReLU(inplace=True)\n",
       "      (downsample): Sequential(\n",
       "        (0): Conv2d(64, 256, kernel_size=(1, 1), stride=(1, 1), bias=False)\n",
       "        (1): BatchNorm2d(256, eps=1e-05, momentum=0.1, affine=True, track_running_stats=True)\n",
       "      )\n",
       "    )\n",
       "    (1): Bottleneck(\n",
       "      (conv1): Conv2d(256, 64, kernel_size=(1, 1), stride=(1, 1), bias=False)\n",
       "      (bn1): BatchNorm2d(64, eps=1e-05, momentum=0.1, affine=True, track_running_stats=True)\n",
       "      (conv2): Conv2d(64, 64, kernel_size=(3, 3), stride=(1, 1), padding=(1, 1), bias=False)\n",
       "      (bn2): BatchNorm2d(64, eps=1e-05, momentum=0.1, affine=True, track_running_stats=True)\n",
       "      (conv3): Conv2d(64, 256, kernel_size=(1, 1), stride=(1, 1), bias=False)\n",
       "      (bn3): BatchNorm2d(256, eps=1e-05, momentum=0.1, affine=True, track_running_stats=True)\n",
       "      (relu): ReLU(inplace=True)\n",
       "    )\n",
       "    (2): Bottleneck(\n",
       "      (conv1): Conv2d(256, 64, kernel_size=(1, 1), stride=(1, 1), bias=False)\n",
       "      (bn1): BatchNorm2d(64, eps=1e-05, momentum=0.1, affine=True, track_running_stats=True)\n",
       "      (conv2): Conv2d(64, 64, kernel_size=(3, 3), stride=(1, 1), padding=(1, 1), bias=False)\n",
       "      (bn2): BatchNorm2d(64, eps=1e-05, momentum=0.1, affine=True, track_running_stats=True)\n",
       "      (conv3): Conv2d(64, 256, kernel_size=(1, 1), stride=(1, 1), bias=False)\n",
       "      (bn3): BatchNorm2d(256, eps=1e-05, momentum=0.1, affine=True, track_running_stats=True)\n",
       "      (relu): ReLU(inplace=True)\n",
       "    )\n",
       "  )\n",
       "  (layer2): Sequential(\n",
       "    (0): Bottleneck(\n",
       "      (conv1): Conv2d(256, 128, kernel_size=(1, 1), stride=(1, 1), bias=False)\n",
       "      (bn1): BatchNorm2d(128, eps=1e-05, momentum=0.1, affine=True, track_running_stats=True)\n",
       "      (conv2): Conv2d(128, 128, kernel_size=(3, 3), stride=(2, 2), padding=(1, 1), bias=False)\n",
       "      (bn2): BatchNorm2d(128, eps=1e-05, momentum=0.1, affine=True, track_running_stats=True)\n",
       "      (conv3): Conv2d(128, 512, kernel_size=(1, 1), stride=(1, 1), bias=False)\n",
       "      (bn3): BatchNorm2d(512, eps=1e-05, momentum=0.1, affine=True, track_running_stats=True)\n",
       "      (relu): ReLU(inplace=True)\n",
       "      (downsample): Sequential(\n",
       "        (0): Conv2d(256, 512, kernel_size=(1, 1), stride=(2, 2), bias=False)\n",
       "        (1): BatchNorm2d(512, eps=1e-05, momentum=0.1, affine=True, track_running_stats=True)\n",
       "      )\n",
       "    )\n",
       "    (1): Bottleneck(\n",
       "      (conv1): Conv2d(512, 128, kernel_size=(1, 1), stride=(1, 1), bias=False)\n",
       "      (bn1): BatchNorm2d(128, eps=1e-05, momentum=0.1, affine=True, track_running_stats=True)\n",
       "      (conv2): Conv2d(128, 128, kernel_size=(3, 3), stride=(1, 1), padding=(1, 1), bias=False)\n",
       "      (bn2): BatchNorm2d(128, eps=1e-05, momentum=0.1, affine=True, track_running_stats=True)\n",
       "      (conv3): Conv2d(128, 512, kernel_size=(1, 1), stride=(1, 1), bias=False)\n",
       "      (bn3): BatchNorm2d(512, eps=1e-05, momentum=0.1, affine=True, track_running_stats=True)\n",
       "      (relu): ReLU(inplace=True)\n",
       "    )\n",
       "    (2): Bottleneck(\n",
       "      (conv1): Conv2d(512, 128, kernel_size=(1, 1), stride=(1, 1), bias=False)\n",
       "      (bn1): BatchNorm2d(128, eps=1e-05, momentum=0.1, affine=True, track_running_stats=True)\n",
       "      (conv2): Conv2d(128, 128, kernel_size=(3, 3), stride=(1, 1), padding=(1, 1), bias=False)\n",
       "      (bn2): BatchNorm2d(128, eps=1e-05, momentum=0.1, affine=True, track_running_stats=True)\n",
       "      (conv3): Conv2d(128, 512, kernel_size=(1, 1), stride=(1, 1), bias=False)\n",
       "      (bn3): BatchNorm2d(512, eps=1e-05, momentum=0.1, affine=True, track_running_stats=True)\n",
       "      (relu): ReLU(inplace=True)\n",
       "    )\n",
       "    (3): Bottleneck(\n",
       "      (conv1): Conv2d(512, 128, kernel_size=(1, 1), stride=(1, 1), bias=False)\n",
       "      (bn1): BatchNorm2d(128, eps=1e-05, momentum=0.1, affine=True, track_running_stats=True)\n",
       "      (conv2): Conv2d(128, 128, kernel_size=(3, 3), stride=(1, 1), padding=(1, 1), bias=False)\n",
       "      (bn2): BatchNorm2d(128, eps=1e-05, momentum=0.1, affine=True, track_running_stats=True)\n",
       "      (conv3): Conv2d(128, 512, kernel_size=(1, 1), stride=(1, 1), bias=False)\n",
       "      (bn3): BatchNorm2d(512, eps=1e-05, momentum=0.1, affine=True, track_running_stats=True)\n",
       "      (relu): ReLU(inplace=True)\n",
       "    )\n",
       "  )\n",
       "  (layer3): Sequential(\n",
       "    (0): Bottleneck(\n",
       "      (conv1): Conv2d(512, 256, kernel_size=(1, 1), stride=(1, 1), bias=False)\n",
       "      (bn1): BatchNorm2d(256, eps=1e-05, momentum=0.1, affine=True, track_running_stats=True)\n",
       "      (conv2): Conv2d(256, 256, kernel_size=(3, 3), stride=(2, 2), padding=(1, 1), bias=False)\n",
       "      (bn2): BatchNorm2d(256, eps=1e-05, momentum=0.1, affine=True, track_running_stats=True)\n",
       "      (conv3): Conv2d(256, 1024, kernel_size=(1, 1), stride=(1, 1), bias=False)\n",
       "      (bn3): BatchNorm2d(1024, eps=1e-05, momentum=0.1, affine=True, track_running_stats=True)\n",
       "      (relu): ReLU(inplace=True)\n",
       "      (downsample): Sequential(\n",
       "        (0): Conv2d(512, 1024, kernel_size=(1, 1), stride=(2, 2), bias=False)\n",
       "        (1): BatchNorm2d(1024, eps=1e-05, momentum=0.1, affine=True, track_running_stats=True)\n",
       "      )\n",
       "    )\n",
       "    (1): Bottleneck(\n",
       "      (conv1): Conv2d(1024, 256, kernel_size=(1, 1), stride=(1, 1), bias=False)\n",
       "      (bn1): BatchNorm2d(256, eps=1e-05, momentum=0.1, affine=True, track_running_stats=True)\n",
       "      (conv2): Conv2d(256, 256, kernel_size=(3, 3), stride=(1, 1), padding=(1, 1), bias=False)\n",
       "      (bn2): BatchNorm2d(256, eps=1e-05, momentum=0.1, affine=True, track_running_stats=True)\n",
       "      (conv3): Conv2d(256, 1024, kernel_size=(1, 1), stride=(1, 1), bias=False)\n",
       "      (bn3): BatchNorm2d(1024, eps=1e-05, momentum=0.1, affine=True, track_running_stats=True)\n",
       "      (relu): ReLU(inplace=True)\n",
       "    )\n",
       "    (2): Bottleneck(\n",
       "      (conv1): Conv2d(1024, 256, kernel_size=(1, 1), stride=(1, 1), bias=False)\n",
       "      (bn1): BatchNorm2d(256, eps=1e-05, momentum=0.1, affine=True, track_running_stats=True)\n",
       "      (conv2): Conv2d(256, 256, kernel_size=(3, 3), stride=(1, 1), padding=(1, 1), bias=False)\n",
       "      (bn2): BatchNorm2d(256, eps=1e-05, momentum=0.1, affine=True, track_running_stats=True)\n",
       "      (conv3): Conv2d(256, 1024, kernel_size=(1, 1), stride=(1, 1), bias=False)\n",
       "      (bn3): BatchNorm2d(1024, eps=1e-05, momentum=0.1, affine=True, track_running_stats=True)\n",
       "      (relu): ReLU(inplace=True)\n",
       "    )\n",
       "    (3): Bottleneck(\n",
       "      (conv1): Conv2d(1024, 256, kernel_size=(1, 1), stride=(1, 1), bias=False)\n",
       "      (bn1): BatchNorm2d(256, eps=1e-05, momentum=0.1, affine=True, track_running_stats=True)\n",
       "      (conv2): Conv2d(256, 256, kernel_size=(3, 3), stride=(1, 1), padding=(1, 1), bias=False)\n",
       "      (bn2): BatchNorm2d(256, eps=1e-05, momentum=0.1, affine=True, track_running_stats=True)\n",
       "      (conv3): Conv2d(256, 1024, kernel_size=(1, 1), stride=(1, 1), bias=False)\n",
       "      (bn3): BatchNorm2d(1024, eps=1e-05, momentum=0.1, affine=True, track_running_stats=True)\n",
       "      (relu): ReLU(inplace=True)\n",
       "    )\n",
       "    (4): Bottleneck(\n",
       "      (conv1): Conv2d(1024, 256, kernel_size=(1, 1), stride=(1, 1), bias=False)\n",
       "      (bn1): BatchNorm2d(256, eps=1e-05, momentum=0.1, affine=True, track_running_stats=True)\n",
       "      (conv2): Conv2d(256, 256, kernel_size=(3, 3), stride=(1, 1), padding=(1, 1), bias=False)\n",
       "      (bn2): BatchNorm2d(256, eps=1e-05, momentum=0.1, affine=True, track_running_stats=True)\n",
       "      (conv3): Conv2d(256, 1024, kernel_size=(1, 1), stride=(1, 1), bias=False)\n",
       "      (bn3): BatchNorm2d(1024, eps=1e-05, momentum=0.1, affine=True, track_running_stats=True)\n",
       "      (relu): ReLU(inplace=True)\n",
       "    )\n",
       "    (5): Bottleneck(\n",
       "      (conv1): Conv2d(1024, 256, kernel_size=(1, 1), stride=(1, 1), bias=False)\n",
       "      (bn1): BatchNorm2d(256, eps=1e-05, momentum=0.1, affine=True, track_running_stats=True)\n",
       "      (conv2): Conv2d(256, 256, kernel_size=(3, 3), stride=(1, 1), padding=(1, 1), bias=False)\n",
       "      (bn2): BatchNorm2d(256, eps=1e-05, momentum=0.1, affine=True, track_running_stats=True)\n",
       "      (conv3): Conv2d(256, 1024, kernel_size=(1, 1), stride=(1, 1), bias=False)\n",
       "      (bn3): BatchNorm2d(1024, eps=1e-05, momentum=0.1, affine=True, track_running_stats=True)\n",
       "      (relu): ReLU(inplace=True)\n",
       "    )\n",
       "    (6): Bottleneck(\n",
       "      (conv1): Conv2d(1024, 256, kernel_size=(1, 1), stride=(1, 1), bias=False)\n",
       "      (bn1): BatchNorm2d(256, eps=1e-05, momentum=0.1, affine=True, track_running_stats=True)\n",
       "      (conv2): Conv2d(256, 256, kernel_size=(3, 3), stride=(1, 1), padding=(1, 1), bias=False)\n",
       "      (bn2): BatchNorm2d(256, eps=1e-05, momentum=0.1, affine=True, track_running_stats=True)\n",
       "      (conv3): Conv2d(256, 1024, kernel_size=(1, 1), stride=(1, 1), bias=False)\n",
       "      (bn3): BatchNorm2d(1024, eps=1e-05, momentum=0.1, affine=True, track_running_stats=True)\n",
       "      (relu): ReLU(inplace=True)\n",
       "    )\n",
       "    (7): Bottleneck(\n",
       "      (conv1): Conv2d(1024, 256, kernel_size=(1, 1), stride=(1, 1), bias=False)\n",
       "      (bn1): BatchNorm2d(256, eps=1e-05, momentum=0.1, affine=True, track_running_stats=True)\n",
       "      (conv2): Conv2d(256, 256, kernel_size=(3, 3), stride=(1, 1), padding=(1, 1), bias=False)\n",
       "      (bn2): BatchNorm2d(256, eps=1e-05, momentum=0.1, affine=True, track_running_stats=True)\n",
       "      (conv3): Conv2d(256, 1024, kernel_size=(1, 1), stride=(1, 1), bias=False)\n",
       "      (bn3): BatchNorm2d(1024, eps=1e-05, momentum=0.1, affine=True, track_running_stats=True)\n",
       "      (relu): ReLU(inplace=True)\n",
       "    )\n",
       "    (8): Bottleneck(\n",
       "      (conv1): Conv2d(1024, 256, kernel_size=(1, 1), stride=(1, 1), bias=False)\n",
       "      (bn1): BatchNorm2d(256, eps=1e-05, momentum=0.1, affine=True, track_running_stats=True)\n",
       "      (conv2): Conv2d(256, 256, kernel_size=(3, 3), stride=(1, 1), padding=(1, 1), bias=False)\n",
       "      (bn2): BatchNorm2d(256, eps=1e-05, momentum=0.1, affine=True, track_running_stats=True)\n",
       "      (conv3): Conv2d(256, 1024, kernel_size=(1, 1), stride=(1, 1), bias=False)\n",
       "      (bn3): BatchNorm2d(1024, eps=1e-05, momentum=0.1, affine=True, track_running_stats=True)\n",
       "      (relu): ReLU(inplace=True)\n",
       "    )\n",
       "    (9): Bottleneck(\n",
       "      (conv1): Conv2d(1024, 256, kernel_size=(1, 1), stride=(1, 1), bias=False)\n",
       "      (bn1): BatchNorm2d(256, eps=1e-05, momentum=0.1, affine=True, track_running_stats=True)\n",
       "      (conv2): Conv2d(256, 256, kernel_size=(3, 3), stride=(1, 1), padding=(1, 1), bias=False)\n",
       "      (bn2): BatchNorm2d(256, eps=1e-05, momentum=0.1, affine=True, track_running_stats=True)\n",
       "      (conv3): Conv2d(256, 1024, kernel_size=(1, 1), stride=(1, 1), bias=False)\n",
       "      (bn3): BatchNorm2d(1024, eps=1e-05, momentum=0.1, affine=True, track_running_stats=True)\n",
       "      (relu): ReLU(inplace=True)\n",
       "    )\n",
       "    (10): Bottleneck(\n",
       "      (conv1): Conv2d(1024, 256, kernel_size=(1, 1), stride=(1, 1), bias=False)\n",
       "      (bn1): BatchNorm2d(256, eps=1e-05, momentum=0.1, affine=True, track_running_stats=True)\n",
       "      (conv2): Conv2d(256, 256, kernel_size=(3, 3), stride=(1, 1), padding=(1, 1), bias=False)\n",
       "      (bn2): BatchNorm2d(256, eps=1e-05, momentum=0.1, affine=True, track_running_stats=True)\n",
       "      (conv3): Conv2d(256, 1024, kernel_size=(1, 1), stride=(1, 1), bias=False)\n",
       "      (bn3): BatchNorm2d(1024, eps=1e-05, momentum=0.1, affine=True, track_running_stats=True)\n",
       "      (relu): ReLU(inplace=True)\n",
       "    )\n",
       "    (11): Bottleneck(\n",
       "      (conv1): Conv2d(1024, 256, kernel_size=(1, 1), stride=(1, 1), bias=False)\n",
       "      (bn1): BatchNorm2d(256, eps=1e-05, momentum=0.1, affine=True, track_running_stats=True)\n",
       "      (conv2): Conv2d(256, 256, kernel_size=(3, 3), stride=(1, 1), padding=(1, 1), bias=False)\n",
       "      (bn2): BatchNorm2d(256, eps=1e-05, momentum=0.1, affine=True, track_running_stats=True)\n",
       "      (conv3): Conv2d(256, 1024, kernel_size=(1, 1), stride=(1, 1), bias=False)\n",
       "      (bn3): BatchNorm2d(1024, eps=1e-05, momentum=0.1, affine=True, track_running_stats=True)\n",
       "      (relu): ReLU(inplace=True)\n",
       "    )\n",
       "    (12): Bottleneck(\n",
       "      (conv1): Conv2d(1024, 256, kernel_size=(1, 1), stride=(1, 1), bias=False)\n",
       "      (bn1): BatchNorm2d(256, eps=1e-05, momentum=0.1, affine=True, track_running_stats=True)\n",
       "      (conv2): Conv2d(256, 256, kernel_size=(3, 3), stride=(1, 1), padding=(1, 1), bias=False)\n",
       "      (bn2): BatchNorm2d(256, eps=1e-05, momentum=0.1, affine=True, track_running_stats=True)\n",
       "      (conv3): Conv2d(256, 1024, kernel_size=(1, 1), stride=(1, 1), bias=False)\n",
       "      (bn3): BatchNorm2d(1024, eps=1e-05, momentum=0.1, affine=True, track_running_stats=True)\n",
       "      (relu): ReLU(inplace=True)\n",
       "    )\n",
       "    (13): Bottleneck(\n",
       "      (conv1): Conv2d(1024, 256, kernel_size=(1, 1), stride=(1, 1), bias=False)\n",
       "      (bn1): BatchNorm2d(256, eps=1e-05, momentum=0.1, affine=True, track_running_stats=True)\n",
       "      (conv2): Conv2d(256, 256, kernel_size=(3, 3), stride=(1, 1), padding=(1, 1), bias=False)\n",
       "      (bn2): BatchNorm2d(256, eps=1e-05, momentum=0.1, affine=True, track_running_stats=True)\n",
       "      (conv3): Conv2d(256, 1024, kernel_size=(1, 1), stride=(1, 1), bias=False)\n",
       "      (bn3): BatchNorm2d(1024, eps=1e-05, momentum=0.1, affine=True, track_running_stats=True)\n",
       "      (relu): ReLU(inplace=True)\n",
       "    )\n",
       "    (14): Bottleneck(\n",
       "      (conv1): Conv2d(1024, 256, kernel_size=(1, 1), stride=(1, 1), bias=False)\n",
       "      (bn1): BatchNorm2d(256, eps=1e-05, momentum=0.1, affine=True, track_running_stats=True)\n",
       "      (conv2): Conv2d(256, 256, kernel_size=(3, 3), stride=(1, 1), padding=(1, 1), bias=False)\n",
       "      (bn2): BatchNorm2d(256, eps=1e-05, momentum=0.1, affine=True, track_running_stats=True)\n",
       "      (conv3): Conv2d(256, 1024, kernel_size=(1, 1), stride=(1, 1), bias=False)\n",
       "      (bn3): BatchNorm2d(1024, eps=1e-05, momentum=0.1, affine=True, track_running_stats=True)\n",
       "      (relu): ReLU(inplace=True)\n",
       "    )\n",
       "    (15): Bottleneck(\n",
       "      (conv1): Conv2d(1024, 256, kernel_size=(1, 1), stride=(1, 1), bias=False)\n",
       "      (bn1): BatchNorm2d(256, eps=1e-05, momentum=0.1, affine=True, track_running_stats=True)\n",
       "      (conv2): Conv2d(256, 256, kernel_size=(3, 3), stride=(1, 1), padding=(1, 1), bias=False)\n",
       "      (bn2): BatchNorm2d(256, eps=1e-05, momentum=0.1, affine=True, track_running_stats=True)\n",
       "      (conv3): Conv2d(256, 1024, kernel_size=(1, 1), stride=(1, 1), bias=False)\n",
       "      (bn3): BatchNorm2d(1024, eps=1e-05, momentum=0.1, affine=True, track_running_stats=True)\n",
       "      (relu): ReLU(inplace=True)\n",
       "    )\n",
       "    (16): Bottleneck(\n",
       "      (conv1): Conv2d(1024, 256, kernel_size=(1, 1), stride=(1, 1), bias=False)\n",
       "      (bn1): BatchNorm2d(256, eps=1e-05, momentum=0.1, affine=True, track_running_stats=True)\n",
       "      (conv2): Conv2d(256, 256, kernel_size=(3, 3), stride=(1, 1), padding=(1, 1), bias=False)\n",
       "      (bn2): BatchNorm2d(256, eps=1e-05, momentum=0.1, affine=True, track_running_stats=True)\n",
       "      (conv3): Conv2d(256, 1024, kernel_size=(1, 1), stride=(1, 1), bias=False)\n",
       "      (bn3): BatchNorm2d(1024, eps=1e-05, momentum=0.1, affine=True, track_running_stats=True)\n",
       "      (relu): ReLU(inplace=True)\n",
       "    )\n",
       "    (17): Bottleneck(\n",
       "      (conv1): Conv2d(1024, 256, kernel_size=(1, 1), stride=(1, 1), bias=False)\n",
       "      (bn1): BatchNorm2d(256, eps=1e-05, momentum=0.1, affine=True, track_running_stats=True)\n",
       "      (conv2): Conv2d(256, 256, kernel_size=(3, 3), stride=(1, 1), padding=(1, 1), bias=False)\n",
       "      (bn2): BatchNorm2d(256, eps=1e-05, momentum=0.1, affine=True, track_running_stats=True)\n",
       "      (conv3): Conv2d(256, 1024, kernel_size=(1, 1), stride=(1, 1), bias=False)\n",
       "      (bn3): BatchNorm2d(1024, eps=1e-05, momentum=0.1, affine=True, track_running_stats=True)\n",
       "      (relu): ReLU(inplace=True)\n",
       "    )\n",
       "    (18): Bottleneck(\n",
       "      (conv1): Conv2d(1024, 256, kernel_size=(1, 1), stride=(1, 1), bias=False)\n",
       "      (bn1): BatchNorm2d(256, eps=1e-05, momentum=0.1, affine=True, track_running_stats=True)\n",
       "      (conv2): Conv2d(256, 256, kernel_size=(3, 3), stride=(1, 1), padding=(1, 1), bias=False)\n",
       "      (bn2): BatchNorm2d(256, eps=1e-05, momentum=0.1, affine=True, track_running_stats=True)\n",
       "      (conv3): Conv2d(256, 1024, kernel_size=(1, 1), stride=(1, 1), bias=False)\n",
       "      (bn3): BatchNorm2d(1024, eps=1e-05, momentum=0.1, affine=True, track_running_stats=True)\n",
       "      (relu): ReLU(inplace=True)\n",
       "    )\n",
       "    (19): Bottleneck(\n",
       "      (conv1): Conv2d(1024, 256, kernel_size=(1, 1), stride=(1, 1), bias=False)\n",
       "      (bn1): BatchNorm2d(256, eps=1e-05, momentum=0.1, affine=True, track_running_stats=True)\n",
       "      (conv2): Conv2d(256, 256, kernel_size=(3, 3), stride=(1, 1), padding=(1, 1), bias=False)\n",
       "      (bn2): BatchNorm2d(256, eps=1e-05, momentum=0.1, affine=True, track_running_stats=True)\n",
       "      (conv3): Conv2d(256, 1024, kernel_size=(1, 1), stride=(1, 1), bias=False)\n",
       "      (bn3): BatchNorm2d(1024, eps=1e-05, momentum=0.1, affine=True, track_running_stats=True)\n",
       "      (relu): ReLU(inplace=True)\n",
       "    )\n",
       "    (20): Bottleneck(\n",
       "      (conv1): Conv2d(1024, 256, kernel_size=(1, 1), stride=(1, 1), bias=False)\n",
       "      (bn1): BatchNorm2d(256, eps=1e-05, momentum=0.1, affine=True, track_running_stats=True)\n",
       "      (conv2): Conv2d(256, 256, kernel_size=(3, 3), stride=(1, 1), padding=(1, 1), bias=False)\n",
       "      (bn2): BatchNorm2d(256, eps=1e-05, momentum=0.1, affine=True, track_running_stats=True)\n",
       "      (conv3): Conv2d(256, 1024, kernel_size=(1, 1), stride=(1, 1), bias=False)\n",
       "      (bn3): BatchNorm2d(1024, eps=1e-05, momentum=0.1, affine=True, track_running_stats=True)\n",
       "      (relu): ReLU(inplace=True)\n",
       "    )\n",
       "    (21): Bottleneck(\n",
       "      (conv1): Conv2d(1024, 256, kernel_size=(1, 1), stride=(1, 1), bias=False)\n",
       "      (bn1): BatchNorm2d(256, eps=1e-05, momentum=0.1, affine=True, track_running_stats=True)\n",
       "      (conv2): Conv2d(256, 256, kernel_size=(3, 3), stride=(1, 1), padding=(1, 1), bias=False)\n",
       "      (bn2): BatchNorm2d(256, eps=1e-05, momentum=0.1, affine=True, track_running_stats=True)\n",
       "      (conv3): Conv2d(256, 1024, kernel_size=(1, 1), stride=(1, 1), bias=False)\n",
       "      (bn3): BatchNorm2d(1024, eps=1e-05, momentum=0.1, affine=True, track_running_stats=True)\n",
       "      (relu): ReLU(inplace=True)\n",
       "    )\n",
       "    (22): Bottleneck(\n",
       "      (conv1): Conv2d(1024, 256, kernel_size=(1, 1), stride=(1, 1), bias=False)\n",
       "      (bn1): BatchNorm2d(256, eps=1e-05, momentum=0.1, affine=True, track_running_stats=True)\n",
       "      (conv2): Conv2d(256, 256, kernel_size=(3, 3), stride=(1, 1), padding=(1, 1), bias=False)\n",
       "      (bn2): BatchNorm2d(256, eps=1e-05, momentum=0.1, affine=True, track_running_stats=True)\n",
       "      (conv3): Conv2d(256, 1024, kernel_size=(1, 1), stride=(1, 1), bias=False)\n",
       "      (bn3): BatchNorm2d(1024, eps=1e-05, momentum=0.1, affine=True, track_running_stats=True)\n",
       "      (relu): ReLU(inplace=True)\n",
       "    )\n",
       "  )\n",
       "  (layer4): Sequential(\n",
       "    (0): Bottleneck(\n",
       "      (conv1): Conv2d(1024, 512, kernel_size=(1, 1), stride=(1, 1), bias=False)\n",
       "      (bn1): BatchNorm2d(512, eps=1e-05, momentum=0.1, affine=True, track_running_stats=True)\n",
       "      (conv2): Conv2d(512, 512, kernel_size=(3, 3), stride=(2, 2), padding=(1, 1), bias=False)\n",
       "      (bn2): BatchNorm2d(512, eps=1e-05, momentum=0.1, affine=True, track_running_stats=True)\n",
       "      (conv3): Conv2d(512, 2048, kernel_size=(1, 1), stride=(1, 1), bias=False)\n",
       "      (bn3): BatchNorm2d(2048, eps=1e-05, momentum=0.1, affine=True, track_running_stats=True)\n",
       "      (relu): ReLU(inplace=True)\n",
       "      (downsample): Sequential(\n",
       "        (0): Conv2d(1024, 2048, kernel_size=(1, 1), stride=(2, 2), bias=False)\n",
       "        (1): BatchNorm2d(2048, eps=1e-05, momentum=0.1, affine=True, track_running_stats=True)\n",
       "      )\n",
       "    )\n",
       "    (1): Bottleneck(\n",
       "      (conv1): Conv2d(2048, 512, kernel_size=(1, 1), stride=(1, 1), bias=False)\n",
       "      (bn1): BatchNorm2d(512, eps=1e-05, momentum=0.1, affine=True, track_running_stats=True)\n",
       "      (conv2): Conv2d(512, 512, kernel_size=(3, 3), stride=(1, 1), padding=(1, 1), bias=False)\n",
       "      (bn2): BatchNorm2d(512, eps=1e-05, momentum=0.1, affine=True, track_running_stats=True)\n",
       "      (conv3): Conv2d(512, 2048, kernel_size=(1, 1), stride=(1, 1), bias=False)\n",
       "      (bn3): BatchNorm2d(2048, eps=1e-05, momentum=0.1, affine=True, track_running_stats=True)\n",
       "      (relu): ReLU(inplace=True)\n",
       "    )\n",
       "    (2): Bottleneck(\n",
       "      (conv1): Conv2d(2048, 512, kernel_size=(1, 1), stride=(1, 1), bias=False)\n",
       "      (bn1): BatchNorm2d(512, eps=1e-05, momentum=0.1, affine=True, track_running_stats=True)\n",
       "      (conv2): Conv2d(512, 512, kernel_size=(3, 3), stride=(1, 1), padding=(1, 1), bias=False)\n",
       "      (bn2): BatchNorm2d(512, eps=1e-05, momentum=0.1, affine=True, track_running_stats=True)\n",
       "      (conv3): Conv2d(512, 2048, kernel_size=(1, 1), stride=(1, 1), bias=False)\n",
       "      (bn3): BatchNorm2d(2048, eps=1e-05, momentum=0.1, affine=True, track_running_stats=True)\n",
       "      (relu): ReLU(inplace=True)\n",
       "    )\n",
       "  )\n",
       "  (avgpool): AdaptiveAvgPool2d(output_size=(1, 1))\n",
       "  (fc): Linear(in_features=2048, out_features=1000, bias=True)\n",
       ")"
      ]
     },
     "execution_count": 16,
     "metadata": {},
     "output_type": "execute_result"
    }
   ],
   "source": [
    "resnet.eval()"
   ]
  },
  {
   "cell_type": "code",
   "execution_count": 17,
   "id": "17278ffb-aef9-48ad-ad08-506a0481b176",
   "metadata": {},
   "outputs": [],
   "source": [
    "out = resnet(batch_t)"
   ]
  },
  {
   "cell_type": "code",
   "execution_count": 19,
   "id": "aaf532b3-9d73-4613-a228-15259baad542",
   "metadata": {
    "scrolled": true
   },
   "outputs": [
    {
     "data": {
      "text/plain": [
       "tensor([[-3.4997e+00, -1.6490e+00, -2.4391e+00, -3.2243e+00, -3.2465e+00,\n",
       "         -1.3218e+00, -2.0395e+00, -2.5405e+00, -1.3043e+00, -2.8827e+00,\n",
       "         -1.6696e+00, -1.2838e+00, -2.6184e+00, -2.9750e+00, -2.4380e+00,\n",
       "         -2.8256e+00, -3.3083e+00, -7.9667e-01, -6.7075e-01, -1.2162e+00,\n",
       "         -3.0311e+00, -3.9593e+00, -2.2631e+00, -1.0843e+00, -9.7915e-01,\n",
       "         -1.0742e+00, -3.0908e+00, -2.4751e+00, -2.2153e+00, -3.1932e+00,\n",
       "         -3.2964e+00, -1.8507e+00, -2.0642e+00, -2.1202e+00, -1.8665e+00,\n",
       "         -3.2375e+00, -1.1210e+00, -1.1321e+00, -1.1657e+00, -9.0361e-01,\n",
       "         -4.5209e-01, -1.4986e+00,  1.4366e+00,  1.2994e-01, -1.8379e+00,\n",
       "         -1.4815e+00,  9.7278e-01, -9.3662e-01, -3.0276e+00, -2.7341e+00,\n",
       "         -2.5960e+00, -2.0591e+00, -1.8170e+00, -1.9437e+00, -1.7875e+00,\n",
       "         -1.3029e+00, -4.5200e-01, -2.0560e+00, -3.2882e+00, -4.7583e-01,\n",
       "         -3.6261e-01, -1.1650e+00, -7.3943e-01, -1.4489e+00, -1.5039e+00,\n",
       "         -2.1096e+00, -1.7095e+00, -4.1315e-01, -1.9146e+00, -1.5095e+00,\n",
       "         -1.2012e+00, -1.3111e+00, -1.0662e+00,  1.2968e-01, -3.8648e-01,\n",
       "         -2.4670e-01, -8.7028e-01,  5.9567e-01, -8.8329e-01,  1.4535e+00,\n",
       "         -2.6384e+00, -3.6589e+00, -2.3378e-01, -4.9410e-02, -2.2602e+00,\n",
       "         -2.3605e+00, -1.4038e+00,  2.4098e-01, -1.0531e+00, -2.9106e+00,\n",
       "         -2.5321e+00, -2.2253e+00,  4.4062e-01, -1.3269e+00, -2.0447e-02,\n",
       "         -2.8696e+00, -5.5841e-01, -1.3959e+00, -2.9274e+00, -1.9038e+00,\n",
       "         -4.2433e+00, -2.9701e+00, -2.0552e+00, -2.4290e+00, -2.7691e+00,\n",
       "         -4.0207e+00, -3.6511e+00, -4.8903e-01, -9.8899e-01, -1.8995e+00,\n",
       "         -3.5459e+00, -1.4606e+00,  1.1054e+00, -6.9230e-01, -7.4877e-01,\n",
       "         -2.1745e+00, -2.2471e+00, -5.3973e-01, -1.5121e+00, -2.5998e+00,\n",
       "         -3.9889e+00, -9.7558e-01, -5.5630e-01, -8.6530e-01, -1.2110e+00,\n",
       "         -7.3269e-01, -1.0847e+00, -2.0944e+00, -4.0080e+00, -3.3433e-01,\n",
       "         -2.6919e+00, -2.9908e+00, -1.8793e+00, -1.8126e+00, -1.2953e+00,\n",
       "         -2.2093e+00, -2.0246e+00, -3.1878e+00, -3.2739e+00, -2.7969e+00,\n",
       "         -4.1270e-01, -3.7697e+00, -2.4744e+00, -2.6133e+00, -2.7514e+00,\n",
       "         -2.6512e+00, -3.2751e+00, -4.3150e+00, -4.2214e+00, -3.5920e+00,\n",
       "         -1.2186e+00,  2.3577e+00,  1.9648e+00,  2.2958e+00,  5.0050e+00,\n",
       "          1.0229e+00,  2.9914e+00,  8.8863e-01,  2.2502e+00,  6.1697e+00,\n",
       "          4.2833e+00,  4.5931e+00,  7.4686e+00,  4.3448e+00,  4.8805e+00,\n",
       "          5.8076e+00,  3.9792e+00,  3.5555e+00,  9.5253e+00,  1.1172e+00,\n",
       "          3.3158e+00,  1.9011e+00, -5.1524e-01,  1.3985e+00,  1.8150e+00,\n",
       "          5.6135e+00,  5.7316e+00,  2.1489e+00,  2.4986e+00,  5.5508e-01,\n",
       "          1.8658e+00,  1.4871e+00,  3.4364e+00,  4.4125e-01,  4.2860e+00,\n",
       "          4.3832e+00,  1.3132e+00,  1.6830e+00,  1.1566e+00,  2.1403e+00,\n",
       "          9.1247e-01,  3.0220e+00,  3.5398e+00,  2.8193e+00,  1.9450e+00,\n",
       "          8.4404e-02,  2.0383e+00,  2.7105e+00,  1.0817e+00,  1.9388e+00,\n",
       "          3.5678e+00,  2.3330e+00,  2.5193e+00,  1.3185e+00,  3.6052e+00,\n",
       "          7.7896e+00,  4.4019e+00,  1.5813e+01,  1.2201e+01,  5.1687e+00,\n",
       "          1.9371e+00,  5.5298e+00,  6.2411e+00,  7.5443e+00,  5.9197e+00,\n",
       "          7.0106e+00,  5.7829e+00,  2.6940e+00,  5.3224e+00,  9.9329e+00,\n",
       "          6.4925e+00,  2.4706e+00,  5.6329e+00,  3.4480e+00,  2.0878e+00,\n",
       "          1.2667e+00,  2.5974e+00,  5.6932e+00,  7.1867e-01,  1.0250e+00,\n",
       "          4.8133e+00,  6.0352e+00,  3.9970e+00, -1.7816e+00,  3.6096e+00,\n",
       "          2.8417e+00,  2.8397e+00,  1.2274e+00,  4.2220e+00,  4.0891e+00,\n",
       "          3.3476e+00,  2.3510e+00,  2.6175e-01,  8.3823e-01,  5.1252e+00,\n",
       "         -7.6088e-01,  1.9809e+00,  2.8381e+00,  2.4766e+00,  1.8687e+00,\n",
       "          5.8744e-01,  3.4939e+00, -5.0017e-01,  1.8486e+00,  4.4583e-01,\n",
       "          2.4148e+00,  3.4823e+00,  5.1915e+00,  1.8092e+00,  3.9559e+00,\n",
       "          4.3692e+00,  3.1688e-01, -4.8611e-01,  5.6470e+00,  3.6534e+00,\n",
       "          2.4436e+00,  3.6937e+00,  3.3958e+00, -9.6209e-01, -2.2416e-01,\n",
       "          1.2344e-01,  1.1682e+00, -5.7350e-02,  4.4999e+00, -1.8748e+00,\n",
       "         -2.6818e+00, -1.6847e+00, -6.7984e-01, -1.5588e+00, -2.1798e+00,\n",
       "         -1.0431e+00,  1.5370e+00,  7.6586e-01, -1.7835e+00,  6.3795e-01,\n",
       "          8.8728e-01, -2.1297e+00, -2.1428e+00, -1.5652e+00, -4.8034e+00,\n",
       "         -1.0672e+00, -9.5017e-01, -2.0649e+00,  2.0019e+00, -6.4177e-01,\n",
       "         -2.5378e+00, -1.5008e+00, -3.1975e+00, -1.9333e+00, -5.8521e-01,\n",
       "         -1.0363e+00,  1.3329e+00, -1.4872e+00, -2.0102e+00,  1.3183e+00,\n",
       "          4.2174e-01, -3.5856e-01,  7.4732e-01, -2.7741e-01, -7.5281e-01,\n",
       "         -5.5096e-01,  1.0833e+00,  1.3690e-01,  5.3100e-02,  1.2991e+00,\n",
       "         -2.0118e+00, -1.7402e+00,  1.1788e+00, -4.2505e-01,  3.0964e-01,\n",
       "         -1.4589e+00, -2.6225e+00, -2.4953e+00, -2.1100e-01, -2.3407e+00,\n",
       "         -1.5377e+00, -2.4802e+00, -8.0411e-01,  2.1877e-01, -2.8007e+00,\n",
       "         -1.9041e+00, -9.3844e-01, -3.4383e-01, -4.4379e-01, -7.5067e-01,\n",
       "         -2.5060e+00, -1.9128e+00, -2.1313e+00, -5.4917e-01,  1.7571e-01,\n",
       "         -2.0437e+00, -1.7883e+00, -2.4830e+00, -3.8768e+00, -4.4253e+00,\n",
       "         -2.1819e+00, -2.0485e+00, -3.7339e+00, -1.9185e+00, -3.4523e+00,\n",
       "         -2.0103e+00, -2.2686e+00, -7.9842e-01, -5.0350e-01, -2.9496e+00,\n",
       "         -1.6959e+00, -2.9048e-01, -2.8050e+00, -1.8296e+00,  9.0891e-02,\n",
       "         -2.1747e+00, -1.5452e+00, -1.2558e+00, -9.5389e-01, -2.5265e+00,\n",
       "         -1.3665e+00, -3.8682e+00, -4.3242e+00, -1.5148e+00, -1.9113e+00,\n",
       "         -2.9872e+00, -2.9385e+00, -4.8581e+00, -2.4930e+00, -1.3708e+00,\n",
       "         -2.8970e+00, -1.2814e+00, -5.6305e-01, -2.8289e+00, -1.8666e+00,\n",
       "         -2.3429e+00, -3.4331e+00, -2.5701e+00, -3.8991e+00, -4.4677e+00,\n",
       "         -3.5612e+00, -9.3197e-01, -2.3963e+00, -2.0673e+00, -1.8581e+00,\n",
       "         -3.2819e+00, -3.5219e+00, -2.8122e+00, -1.9661e+00, -3.7761e+00,\n",
       "         -1.1609e+00, -2.7743e+00,  2.5781e-01, -1.7330e-01, -3.0291e-01,\n",
       "          1.6415e-01,  1.7316e+00,  1.8974e+00, -3.1201e+00, -3.7529e+00,\n",
       "         -2.6532e+00, -6.6325e-01, -8.5835e-01, -1.3166e+00,  4.9872e-01,\n",
       "         -2.3256e+00,  4.7837e+00,  1.4947e+00, -1.6190e+00,  3.3725e+00,\n",
       "          3.0711e+00,  1.5550e+00,  7.3323e-01,  1.2925e+00,  1.6615e+00,\n",
       "          9.5886e-02,  1.3348e+00,  2.9193e-02,  9.8533e-01, -5.1703e-01,\n",
       "         -1.3542e+00,  5.3265e-01,  2.7115e-01,  2.8676e+00,  2.2308e+00,\n",
       "          1.8468e+00,  1.3861e+00,  1.1031e+00,  2.3657e+00,  6.4129e+00,\n",
       "          1.8896e+00,  5.8361e-01, -1.5098e+00, -1.8949e+00, -2.6363e+00,\n",
       "          1.5000e+00, -5.3598e-01, -6.9934e-02,  2.0223e+00, -1.7648e+00,\n",
       "          4.1311e-01,  1.6696e+00,  7.3901e-01,  2.1839e+00, -1.4280e+00,\n",
       "         -2.4708e+00,  4.8152e-01,  3.3817e+00, -2.9651e-01,  6.8333e-02,\n",
       "          1.1068e+00, -1.3973e+00,  1.5518e+00, -2.2464e+00, -3.6723e-01,\n",
       "         -1.5056e+00, -2.1660e+00,  2.7747e+00,  2.5229e+00,  1.8796e-01,\n",
       "          4.6500e-01, -1.9905e+00, -1.6224e+00, -7.7251e-01, -1.1583e+00,\n",
       "         -3.0849e-01, -1.4386e+00,  2.2714e+00, -4.5280e-01, -8.7969e-01,\n",
       "          4.1363e-01, -1.4095e+00, -2.8906e-01,  3.4809e+00,  4.3324e-01,\n",
       "          4.2387e-01, -1.1204e+00,  1.9781e-01, -2.6528e+00, -2.8554e+00,\n",
       "         -6.6075e-01, -3.1026e-01,  7.8641e-01,  1.8964e-01, -4.5897e-01,\n",
       "         -5.5900e-01, -2.8286e-01,  1.6559e+00,  7.1157e-02, -4.2351e-01,\n",
       "          1.1153e+00,  2.2649e+00, -1.0259e+00,  9.7924e-01,  1.0194e+00,\n",
       "         -2.6048e+00, -5.5008e-01,  2.1353e+00, -9.3641e-01,  4.3960e-02,\n",
       "         -3.9618e-01,  1.5395e+00, -1.0598e+00,  1.8685e+00,  1.4945e+00,\n",
       "         -4.4445e+00, -1.7147e-01, -1.6854e-01, -7.5243e-01,  1.8241e+00,\n",
       "          3.3237e+00,  7.4654e-01, -7.6161e-01,  1.6335e+00,  1.9438e+00,\n",
       "          1.2983e+00, -1.5951e+00,  2.2410e+00,  9.3765e-01, -6.2485e-01,\n",
       "         -1.3969e+00,  1.6010e+00,  2.9322e-02,  8.8535e-01,  9.6981e-01,\n",
       "          5.0879e-01,  3.9120e-01,  1.0257e+00,  6.5950e-01,  3.3687e+00,\n",
       "         -1.0271e+00, -2.9353e+00, -7.5909e-01, -7.9742e-01,  7.0959e+00,\n",
       "         -3.3062e+00,  1.3640e+00,  1.7516e+00,  3.7723e+00, -1.1675e+00,\n",
       "          5.5042e-01, -1.8410e+00, -1.3717e+00,  4.1994e-01,  2.6614e+00,\n",
       "          1.4409e+00,  8.2754e-01,  4.9228e+00,  1.5346e+00, -3.6179e+00,\n",
       "         -2.2328e+00, -1.3824e+00, -8.8731e-01,  2.2056e+00,  2.0819e+00,\n",
       "         -9.1448e-01, -1.7883e+00, -1.4364e+00,  1.0453e+00, -7.3781e-01,\n",
       "         -1.4398e+00,  4.6885e-01,  8.8505e-01,  6.7727e-01, -1.1915e+00,\n",
       "         -1.4081e+00, -8.5758e-01,  1.1674e+00, -1.8481e+00,  2.5000e+00,\n",
       "          3.4197e-01, -1.7550e+00, -8.9500e-01,  2.9997e+00,  2.2094e+00,\n",
       "         -8.3813e-01, -2.0126e+00,  9.3872e-01, -2.1452e+00,  3.8366e-02,\n",
       "          2.4887e-01, -1.0520e-01, -6.5314e-01,  8.0483e-01,  4.0207e+00,\n",
       "         -1.2178e+00,  2.6536e+00, -1.8085e+00,  7.5238e-01,  5.0293e-01,\n",
       "          1.1508e-02, -7.7166e-01,  4.5107e-01,  1.3278e+00,  8.2390e-01,\n",
       "         -6.1212e-01,  3.0906e-02,  2.6237e-01, -2.1468e+00, -1.4071e+00,\n",
       "         -9.9406e-02, -4.3217e-01,  4.8178e-01,  1.2984e+00,  7.5574e-01,\n",
       "          8.5151e-02, -1.3871e-01, -8.5174e-01,  8.1902e-01,  7.0772e-01,\n",
       "          2.1356e+00,  7.1527e-01, -1.9824e-01,  2.4378e+00,  1.8625e+00,\n",
       "          1.0683e+00,  1.0118e+00,  1.4432e+00, -1.9516e-02, -1.6767e-01,\n",
       "         -1.6930e+00, -1.2930e+00, -1.3439e+00, -3.4781e+00,  5.9320e-01,\n",
       "          1.0796e+00, -1.8918e-02, -3.9900e-01, -4.6973e-01, -3.7134e-01,\n",
       "         -1.5430e+00,  3.1286e-01, -1.8760e-01,  3.2949e+00,  1.8577e+00,\n",
       "         -1.5585e+00,  2.9257e+00, -7.3537e-01,  6.2360e-02, -4.3241e-02,\n",
       "         -1.0193e+00,  1.1614e+00,  6.1004e-01,  1.4297e-01, -3.4956e+00,\n",
       "          1.3337e+00,  3.8960e-01, -1.2900e+00, -1.2823e+00, -1.6482e+00,\n",
       "          1.9285e+00,  2.7967e-02, -9.3298e-01,  6.6934e-01,  2.9179e+00,\n",
       "          1.7228e+00,  2.1640e-01, -8.5777e-01, -2.0391e+00,  1.6510e+00,\n",
       "         -2.3326e-01,  7.4310e-01,  1.5400e+00, -1.4460e+00, -1.2114e+00,\n",
       "          5.2273e-01, -6.4955e-01,  4.8661e-02,  2.6569e+00, -1.6518e+00,\n",
       "         -3.3896e+00,  2.1350e+00,  9.0318e-01,  1.3904e+00, -3.6350e-01,\n",
       "          2.0223e-01,  1.4554e+00, -1.1211e+00,  1.8399e+00, -1.2923e+00,\n",
       "         -2.1249e+00, -8.6377e-01, -5.1445e-01, -1.2872e+00,  1.1431e+00,\n",
       "         -1.4240e+00, -7.6691e-01, -3.5563e-01,  2.1923e+00, -1.9831e-01,\n",
       "         -1.8438e+00,  9.6278e-02,  1.7458e+00,  1.7894e-01,  8.0167e-01,\n",
       "          4.7614e+00, -7.3425e-01, -1.6478e+00, -8.1854e-01, -1.5260e+00,\n",
       "          3.4332e+00,  4.9594e-01, -3.4153e-01, -5.1844e-01,  3.1711e-01,\n",
       "          1.8911e+00, -1.2033e+00, -2.0005e+00, -1.2113e-01, -7.0711e-01,\n",
       "         -2.5450e+00, -6.7446e-02,  8.0279e-01, -1.8256e+00,  2.9197e-01,\n",
       "         -1.1033e+00,  1.5367e+00,  2.9367e+00,  5.3937e-01, -7.6932e-01,\n",
       "         -9.2092e-01, -1.7367e+00, -1.0012e+00,  9.3510e-01, -4.1550e-02,\n",
       "         -2.3282e+00,  2.2907e+00,  9.3231e-01,  2.0218e+00, -1.7313e+00,\n",
       "          2.6369e+00,  3.8262e+00,  6.9461e-01, -2.5073e-03, -9.9190e-01,\n",
       "          2.1992e+00,  1.4213e+00,  4.3468e-01, -1.3524e+00, -8.5725e-01,\n",
       "          5.7249e-01, -6.5436e-01,  5.3128e-01,  1.1928e+00,  9.9297e-01,\n",
       "          2.8021e+00, -3.0989e+00,  3.5913e+00, -1.7487e-01, -7.0674e-02,\n",
       "         -2.0895e+00, -1.4625e+00,  3.0381e+00, -4.9794e-01,  2.0560e-01,\n",
       "         -1.4915e-01,  2.2701e+00,  3.2218e-01,  9.6720e-01, -1.1802e+00,\n",
       "          3.3260e+00, -1.8322e+00,  3.2782e+00, -1.7115e-01,  1.3883e+00,\n",
       "          6.0959e-01,  4.1543e-01, -7.9037e-01,  3.6867e-01,  1.9525e+00,\n",
       "          4.2260e-01,  2.4431e+00, -1.9236e+00,  1.2815e-02,  2.2662e+00,\n",
       "         -1.6735e+00, -7.1518e-01,  1.3959e+00, -2.5441e-02,  7.7251e-01,\n",
       "          3.0006e+00, -9.7998e-01, -1.3561e+00,  2.3763e-01,  2.3640e+00,\n",
       "          1.9144e+00,  1.8060e+00,  8.6761e-01,  4.2975e+00,  5.3407e-01,\n",
       "         -1.4330e+00, -5.0711e-01,  3.0123e+00, -8.6910e-01,  3.2884e+00,\n",
       "         -6.6958e-01, -2.6305e+00, -3.1957e+00, -2.9512e+00,  1.2077e+00,\n",
       "          5.6051e+00,  2.7645e-01, -3.1766e+00,  2.5924e+00, -3.3277e-01,\n",
       "          1.2678e-01,  2.3057e+00, -1.4350e+00,  3.3605e+00, -3.3686e+00,\n",
       "         -6.4941e-01,  1.1768e+00, -2.6352e+00,  1.6955e+00, -1.4452e+00,\n",
       "         -2.6586e+00, -3.6629e+00, -1.7268e+00,  1.1226e+00,  1.9893e+00,\n",
       "         -1.6089e-01,  1.2605e+00,  1.2145e+00,  2.6831e+00, -1.8129e+00,\n",
       "         -1.8627e+00,  1.5719e+00, -2.0970e+00, -2.3202e+00,  9.8824e-01,\n",
       "         -3.8493e+00, -1.1166e+00,  8.9900e-01, -3.4761e-01, -3.5048e+00,\n",
       "          2.0611e+00,  5.2646e-01,  6.1806e-01, -1.1573e-01,  8.0079e-01,\n",
       "          8.0897e-01,  1.0604e+00, -1.8259e+00,  2.6638e-01, -1.1470e+00,\n",
       "          8.3008e-01,  1.0902e+00,  9.0343e+00, -9.1355e-01, -9.0900e-01,\n",
       "          1.1300e+00, -3.8219e-01, -1.7321e+00,  1.0250e-01,  2.0110e-01,\n",
       "         -1.4002e+00,  8.6910e-01, -4.4545e-01, -7.9011e-01, -3.1371e+00,\n",
       "         -3.6089e-01,  1.9827e-01, -2.1941e+00,  2.8923e+00,  4.7277e-01,\n",
       "          1.4522e+00, -3.4306e+00,  1.4684e+00, -2.5527e+00, -2.9418e+00,\n",
       "         -7.8795e-01,  2.8671e+00, -1.2269e+00, -6.5231e-01,  3.6328e+00,\n",
       "          1.1509e+00,  1.1695e+00,  3.3913e+00,  9.2258e-01, -1.1167e+00,\n",
       "          1.0877e+00,  1.9697e-01, -7.4068e-01, -2.9546e+00, -1.7774e-01,\n",
       "          1.5686e+00, -4.4219e-01,  1.6109e+00,  1.0286e+00, -1.2968e+00,\n",
       "         -1.7997e+00, -4.9459e-01,  5.5377e-01,  2.3711e+00,  5.1920e-01,\n",
       "         -1.3707e+00, -2.3571e+00, -7.6039e-01,  1.3218e+00,  2.9741e+00,\n",
       "         -2.6011e-01, -6.0607e-01, -4.2340e-02, -7.4892e-01, -7.3589e-02,\n",
       "          2.7876e+00,  3.2539e-01, -1.1395e+00, -1.4875e+00, -4.3684e+00,\n",
       "         -3.6234e-01, -3.4597e-01, -2.0751e+00,  3.6143e-01, -1.4748e+00,\n",
       "         -6.3914e-01, -2.0747e+00, -9.1273e-01, -4.0377e-01, -3.3568e-01,\n",
       "         -1.8499e+00, -1.7759e+00, -6.6116e-01,  6.3051e-01,  3.7449e+00,\n",
       "          2.1652e+00,  4.1343e+00,  1.6970e+00,  8.3944e-01,  1.2930e+00,\n",
       "          1.0517e+00,  1.4064e+00,  1.3186e+00, -7.6195e-01,  2.2661e+00,\n",
       "          1.4491e-01, -7.7404e-01,  1.0131e+00,  8.7297e-01, -6.4795e-01,\n",
       "         -3.4213e-01, -1.5297e+00,  2.0686e+00,  2.5062e+00,  2.1082e-01,\n",
       "          7.5025e-01,  1.8741e-02, -1.7822e+00,  1.9568e+00,  4.3805e-01,\n",
       "          1.2335e+00,  7.7087e-01, -1.0329e+00,  1.5594e-01, -3.6626e-01,\n",
       "          6.3100e-02,  3.2490e+00,  6.4807e-01, -1.5173e-01,  9.3229e-01,\n",
       "         -6.0558e-02, -1.1985e+00,  1.4659e-01,  3.9304e-01,  8.8496e-01,\n",
       "         -1.9458e+00,  1.2217e-01, -1.5016e+00, -1.8235e+00, -3.8595e+00,\n",
       "          1.8626e-01, -2.9675e+00,  5.4217e-01, -7.8127e-01, -2.6196e+00,\n",
       "         -4.4958e+00,  5.7119e-01, -1.3398e+00, -3.8117e+00, -7.8630e-01,\n",
       "         -5.6788e-01, -2.5453e+00,  2.4054e+00,  6.5602e-01,  4.7648e-01,\n",
       "          2.8749e+00, -3.7451e+00,  1.5124e+00, -3.2777e+00, -2.4971e+00,\n",
       "         -3.2263e-01,  1.2816e-01, -1.1752e+00,  3.4434e+00,  4.4534e+00]],\n",
       "       grad_fn=<AddmmBackward0>)"
      ]
     },
     "execution_count": 19,
     "metadata": {},
     "output_type": "execute_result"
    }
   ],
   "source": [
    "out"
   ]
  },
  {
   "cell_type": "code",
   "execution_count": 20,
   "id": "06e394f8-8f69-43c8-b697-0e1a5d41ea0e",
   "metadata": {},
   "outputs": [
    {
     "data": {
      "text/plain": [
       "torch.Size([1, 1000])"
      ]
     },
     "execution_count": 20,
     "metadata": {},
     "output_type": "execute_result"
    }
   ],
   "source": [
    "out.shape"
   ]
  },
  {
   "cell_type": "code",
   "execution_count": 21,
   "id": "f07c9c16-a60f-4932-ad29-1b625986a8d3",
   "metadata": {},
   "outputs": [],
   "source": [
    "with open('./imagenet_classes.txt') as f:\n",
    "    labels = [line.strip() for line in f.readlines()] "
   ]
  },
  {
   "cell_type": "code",
   "execution_count": 22,
   "id": "15309ef2-3e43-4155-8488-156c0352c5f8",
   "metadata": {},
   "outputs": [
    {
     "data": {
      "text/plain": [
       "tensor(207)"
      ]
     },
     "execution_count": 22,
     "metadata": {},
     "output_type": "execute_result"
    }
   ],
   "source": [
    "out.argmax()"
   ]
  },
  {
   "cell_type": "code",
   "execution_count": 23,
   "id": "d315a914-59c7-4d1c-9ec1-6ecdf48b2c0c",
   "metadata": {},
   "outputs": [
    {
     "data": {
      "text/plain": [
       "'golden retriever'"
      ]
     },
     "execution_count": 23,
     "metadata": {},
     "output_type": "execute_result"
    }
   ],
   "source": [
    "labels[207]"
   ]
  },
  {
   "cell_type": "code",
   "execution_count": 24,
   "id": "331cb265-e665-4051-8b6e-b11b3c1a7b62",
   "metadata": {},
   "outputs": [],
   "source": [
    "_, index = torch.max(out, 1)"
   ]
  },
  {
   "cell_type": "code",
   "execution_count": 25,
   "id": "3fb5a297-7960-461a-84f3-c5e127f289da",
   "metadata": {},
   "outputs": [
    {
     "data": {
      "text/plain": [
       "(tensor([15.8126], grad_fn=<MaxBackward0>), tensor([207]))"
      ]
     },
     "execution_count": 25,
     "metadata": {},
     "output_type": "execute_result"
    }
   ],
   "source": [
    "_, index"
   ]
  },
  {
   "cell_type": "code",
   "execution_count": 26,
   "id": "1c650dce-9a0a-42a0-8335-440aa8d7b32b",
   "metadata": {},
   "outputs": [
    {
     "data": {
      "text/plain": [
       "tensor(0.0041, grad_fn=<SumBackward0>)"
      ]
     },
     "execution_count": 26,
     "metadata": {},
     "output_type": "execute_result"
    }
   ],
   "source": [
    "out.sum()"
   ]
  },
  {
   "cell_type": "code",
   "execution_count": 27,
   "id": "ef676c2d-8a44-421a-a537-0f00b74d3d1b",
   "metadata": {},
   "outputs": [],
   "source": [
    "percentage = torch.nn.functional.softmax(out, dim = 1)[0] * 100"
   ]
  },
  {
   "cell_type": "code",
   "execution_count": 28,
   "id": "9d23d220-2234-46bc-8639-091136796c7b",
   "metadata": {},
   "outputs": [
    {
     "data": {
      "text/plain": [
       "torch.Size([1000])"
      ]
     },
     "execution_count": 28,
     "metadata": {},
     "output_type": "execute_result"
    }
   ],
   "source": [
    "percentage.shape"
   ]
  },
  {
   "cell_type": "code",
   "execution_count": 29,
   "id": "2da32e77-90f2-46b6-92be-5d061bf680b7",
   "metadata": {},
   "outputs": [
    {
     "data": {
      "text/plain": [
       "tensor(100.0000, grad_fn=<SumBackward0>)"
      ]
     },
     "execution_count": 29,
     "metadata": {},
     "output_type": "execute_result"
    }
   ],
   "source": [
    "percentage.sum()"
   ]
  },
  {
   "cell_type": "code",
   "execution_count": 30,
   "id": "a0ff5280-cd3d-4b2f-bdf1-03831be27895",
   "metadata": {},
   "outputs": [
    {
     "data": {
      "text/plain": [
       "('golden retriever', 96.57186889648438)"
      ]
     },
     "execution_count": 30,
     "metadata": {},
     "output_type": "execute_result"
    }
   ],
   "source": [
    "labels[index[0]], percentage[index[0]].item()"
   ]
  },
  {
   "cell_type": "code",
   "execution_count": 31,
   "id": "454ea2f6-f5ef-4809-8b8c-7af8e44afca5",
   "metadata": {},
   "outputs": [
    {
     "data": {
      "text/plain": [
       "[('golden retriever', 96.57186889648438),\n",
       " ('Labrador retriever', 2.6082658767700195),\n",
       " ('cocker spaniel, English cocker spaniel, cocker', 0.269961953163147),\n",
       " ('redbone', 0.17958921194076538),\n",
       " ('tennis ball', 0.10991960018873215)]"
      ]
     },
     "execution_count": 31,
     "metadata": {},
     "output_type": "execute_result"
    }
   ],
   "source": [
    "_, indices = torch.sort(out, descending = True)\n",
    "[(labels[idx], percentage[idx].item()) for idx in indices[0][:5]]"
   ]
  },
  {
   "cell_type": "code",
   "execution_count": null,
   "id": "586f421e-c7b3-40a4-818d-77a8721cd947",
   "metadata": {},
   "outputs": [],
   "source": []
  }
 ],
 "metadata": {
  "kernelspec": {
   "display_name": "Python 3 (ipykernel)",
   "language": "python",
   "name": "python3"
  },
  "language_info": {
   "codemirror_mode": {
    "name": "ipython",
    "version": 3
   },
   "file_extension": ".py",
   "mimetype": "text/x-python",
   "name": "python",
   "nbconvert_exporter": "python",
   "pygments_lexer": "ipython3",
   "version": "3.11.5"
  }
 },
 "nbformat": 4,
 "nbformat_minor": 5
}
